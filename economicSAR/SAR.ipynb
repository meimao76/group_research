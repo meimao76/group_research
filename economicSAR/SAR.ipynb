{
 "cells": [
  {
   "metadata": {},
   "cell_type": "markdown",
   "source": [
    "#  SAR\n",
    "## Load and Prepare Data\n",
    "### Load packages"
   ],
   "id": "7e5eb66ab7606874"
  },
  {
   "metadata": {
    "ExecuteTime": {
     "end_time": "2024-12-16T17:31:59.884383Z",
     "start_time": "2024-12-16T17:31:59.862172Z"
    }
   },
   "cell_type": "code",
   "source": [
    "# load packages\n",
    "import geopandas as gpd\n",
    "import pandas as pd\n",
    "import numpy as np\n",
    "from pysal.lib import weights\n",
    "from pysal.explore import esda\n",
    "from spreg import ML_Lag"
   ],
   "id": "16a85e1ce7a35099",
   "outputs": [
    {
     "ename": "ImportError",
     "evalue": "cannot import name 'Impacts' from 'spreg.diagnostics_panel' (D:\\anaconda3\\Lib\\site-packages\\spreg\\diagnostics_panel.py)",
     "output_type": "error",
     "traceback": [
      "\u001B[1;31m---------------------------------------------------------------------------\u001B[0m",
      "\u001B[1;31mImportError\u001B[0m                               Traceback (most recent call last)",
      "Cell \u001B[1;32mIn[102], line 8\u001B[0m\n\u001B[0;32m      6\u001B[0m \u001B[38;5;28;01mfrom\u001B[39;00m \u001B[38;5;21;01mpysal\u001B[39;00m\u001B[38;5;21;01m.\u001B[39;00m\u001B[38;5;21;01mexplore\u001B[39;00m \u001B[38;5;28;01mimport\u001B[39;00m esda\n\u001B[0;32m      7\u001B[0m \u001B[38;5;28;01mfrom\u001B[39;00m \u001B[38;5;21;01mspreg\u001B[39;00m \u001B[38;5;28;01mimport\u001B[39;00m ML_Lag\n\u001B[1;32m----> 8\u001B[0m \u001B[38;5;28;01mfrom\u001B[39;00m \u001B[38;5;21;01mspreg\u001B[39;00m\u001B[38;5;21;01m.\u001B[39;00m\u001B[38;5;21;01mdiagnostics_panel\u001B[39;00m \u001B[38;5;28;01mimport\u001B[39;00m Impacts\n",
      "\u001B[1;31mImportError\u001B[0m: cannot import name 'Impacts' from 'spreg.diagnostics_panel' (D:\\anaconda3\\Lib\\site-packages\\spreg\\diagnostics_panel.py)"
     ]
    }
   ],
   "execution_count": 102
  },
  {
   "metadata": {},
   "cell_type": "markdown",
   "source": "### Load Data",
   "id": "d776b4d0a411488c"
  },
  {
   "metadata": {
    "ExecuteTime": {
     "end_time": "2024-12-16T16:51:06.879299Z",
     "start_time": "2024-12-16T16:51:06.351159Z"
    }
   },
   "cell_type": "code",
   "source": [
    "# load spatial data\n",
    "gdf = gpd.read_file(\"E:\\\\study\\\\CASAterm1\\\\CASA0013_FSDS\\\\group_research\\\\SAR data\\\\greater_london.gpkg\")\n",
    "\n",
    "# load csv\n",
    "tourism_df = pd.read_csv(\"E:\\\\study\\\\CASAterm1\\\\CASA0013_FSDS\\\\group_research\\\\SAR data\\\\londonT&NTlist.csv\") \n",
    "turnover_df = pd.read_csv(\"E:\\\\study\\\\CASAterm1\\\\CASA0013_FSDS\\\\group_research\\\\SAR data\\\\turnover_final_merge.csv\")\n",
    "listings_df = pd.read_csv(\"E:\\\\study\\\\CASAterm1\\\\CASA0013_FSDS\\\\group_research\\\\SAR data\\\\listings.csv\") "
   ],
   "id": "609a034b0a48b139",
   "outputs": [],
   "execution_count": 67
  },
  {
   "metadata": {},
   "cell_type": "markdown",
   "source": "view columns name",
   "id": "e5cdc8f7fe63460f"
  },
  {
   "metadata": {
    "ExecuteTime": {
     "end_time": "2024-12-16T16:51:09.629748Z",
     "start_time": "2024-12-16T16:51:09.624780Z"
    }
   },
   "cell_type": "code",
   "source": [
    "print(listings_df.columns)\n",
    "print(gdf.columns)\n",
    "print(tourism_df.columns)"
   ],
   "id": "e92af0c45a0c0a80",
   "outputs": [
    {
     "name": "stdout",
     "output_type": "stream",
     "text": [
      "Index(['id', 'name', 'host_id', 'host_name', 'neighbourhood_group',\n",
      "       'neighbourhood', 'latitude', 'longitude', 'room_type', 'price',\n",
      "       'minimum_nights', 'number_of_reviews', 'last_review',\n",
      "       'reviews_per_month', 'calculated_host_listings_count',\n",
      "       'availability_365', 'number_of_reviews_ltm', 'license'],\n",
      "      dtype='object')\n",
      "Index(['geo_code', 'geo_label', 'geo_labelw', 'geometry'], dtype='object')\n",
      "Index(['Unnamed: 0', 'MSOA_CODE', 'hotspot_binary'], dtype='object')\n"
     ]
    }
   ],
   "execution_count": 68
  },
  {
   "metadata": {},
   "cell_type": "markdown",
   "source": "### Merge Data",
   "id": "bf2954c7f856486d"
  },
  {
   "metadata": {
    "ExecuteTime": {
     "end_time": "2024-12-16T16:51:16.127076Z",
     "start_time": "2024-12-16T16:51:16.119712Z"
    }
   },
   "cell_type": "code",
   "source": [
    "# Rename gdf's geo code for merging data\n",
    "gdf = gdf.rename(columns={'geo_code': 'MSOA_CODE'})\n",
    "turnover_df = turnover_df.rename(columns={'geo_code':'MSOA_CODE'})"
   ],
   "id": "411a053a05ae0ce6",
   "outputs": [],
   "execution_count": 69
  },
  {
   "metadata": {
    "ExecuteTime": {
     "end_time": "2024-12-16T17:36:27.901147Z",
     "start_time": "2024-12-16T17:36:27.890576Z"
    }
   },
   "cell_type": "code",
   "source": [
    "# 定义与旅游相关的行业关键词\n",
    "tourism_categories = ['_acmd', '_f&b', '_travel', '_art&ent', '_sp_recrea', '_gambling']\n",
    "\n",
    "# 从turnover_df的列名中筛选出含有上述任一行业关键词的列\n",
    "tourism_cols = [col for col in turnover_df.columns if any(cat in col for cat in tourism_categories)]\n",
    "\n",
    "# 将所有相关列相加形成一个综合指标\n",
    "# axis=1表示按行求和\n",
    "turnover_df['tourism_economic_indicator'] = turnover_df[tourism_cols].sum(axis=1)"
   ],
   "id": "28d5360b88f1fcc1",
   "outputs": [],
   "execution_count": 106
  },
  {
   "metadata": {
    "ExecuteTime": {
     "end_time": "2024-12-16T16:51:26.599561Z",
     "start_time": "2024-12-16T16:51:25.537416Z"
    }
   },
   "cell_type": "code",
   "source": [
    "listings_gdf = gpd.GeoDataFrame(\n",
    "    listings_df,\n",
    "    geometry=gpd.points_from_xy(listings_df['longitude'], listings_df['latitude']),\n",
    "    crs=\"EPSG:4326\"\n",
    ")\n",
    "listings_gdf = listings_gdf.to_crs(epsg=27700)\n",
    "\n",
    "# 确保gdf的投影与listings_gdf一致，如有需要：\n",
    "gdf = gdf.to_crs(epsg=27700)\n",
    "\n",
    "# 使用空间连接将每个Airbnb房源分配到MSOA区域\n",
    "listings_with_area = gpd.sjoin(listings_gdf, gdf, how=\"left\",predicate=\"within\")\n",
    "\n",
    "# 按MSOA_CODE汇总Airbnb房源数\n",
    "airbnb_supply = listings_with_area.groupby('MSOA_CODE').size().reset_index(name='airbnb_supply')\n",
    "\n",
    "#-------------------------\n",
    "# 合并数据\n",
    "#-------------------------\n",
    "# Select only the required column from tourism_df along with 'MSOA_CODE'\n",
    "tourism_df_selected = turnover_df[['MSOA_CODE', 'tourism_economic_indicator']]\n",
    "\n",
    "# 如果你只需要从 turnover_df 中获取部分列，直接使用选定列进行合并\n",
    "merged_df = tourism_df_selected.copy()\n",
    "\n",
    "# 将Airbnb供应信息合并\n",
    "merged_df = pd.merge(merged_df, airbnb_supply, on='MSOA_CODE', how='left')\n",
    "merged_df['airbnb_supply'] = merged_df['airbnb_supply'].fillna(0)  # 没有房源的区域记为0\n",
    "\n",
    "# 将 tourism_df 数据合并\n",
    "merged_df = pd.merge(merged_df, tourism_df, on='MSOA_CODE', how='left')\n",
    "\n",
    "# 将数据与 gdf 合并\n",
    "SARdata = gdf.merge(merged_df, on='MSOA_CODE', how='inner')\n",
    "\n",
    "# 查看结果\n",
    "print(SARdata.head())"
   ],
   "id": "b7bb06d4f9ca569e",
   "outputs": [
    {
     "name": "stdout",
     "output_type": "stream",
     "text": [
      "   MSOA_CODE                 geo_label geo_labelw  \\\n",
      "0  E02000730                Newham 017       None   \n",
      "1  E02000053                Barnet 030       None   \n",
      "2  E02000243                Ealing 006       None   \n",
      "3  E02000793  Richmond upon Thames 010       None   \n",
      "4  E02000077                Bexley 013       None   \n",
      "\n",
      "                                            geometry  \\\n",
      "0  MULTIPOLYGON (((5.41e+05 1.84e+05, 5.41e+05 1....   \n",
      "1  MULTIPOLYGON (((5.21e+05 1.9e+05, 5.21e+05 1.9...   \n",
      "2  MULTIPOLYGON (((5.13e+05 1.84e+05, 5.13e+05 1....   \n",
      "3  MULTIPOLYGON (((5.13e+05 1.74e+05, 5.13e+05 1....   \n",
      "4  MULTIPOLYGON (((5.47e+05 1.77e+05, 5.47e+05 1....   \n",
      "\n",
      "   tourism_economic_indicator  airbnb_supply  Unnamed: 0  hotspot_binary  \n",
      "0                        20.0           27.0         0.0             0.0  \n",
      "1                        25.0          201.0         1.0             0.0  \n",
      "2                         5.0           43.0         2.0             0.0  \n",
      "3                        20.0           50.0         3.0             0.0  \n",
      "4                         5.0           20.0         4.0             0.0  \n"
     ]
    }
   ],
   "execution_count": 71
  },
  {
   "metadata": {
    "ExecuteTime": {
     "end_time": "2024-12-16T16:51:33.255588Z",
     "start_time": "2024-12-16T16:51:33.251067Z"
    }
   },
   "cell_type": "code",
   "source": [
    "# Create interaction term: Airbnb supply * traditional tourism dummy\n",
    "SARdata['airbnb_interact'] = SARdata['airbnb_supply'] * SARdata['hotspot_binary']"
   ],
   "id": "9bd0896439f57eff",
   "outputs": [],
   "execution_count": 72
  },
  {
   "metadata": {
    "ExecuteTime": {
     "end_time": "2024-12-16T17:27:33.425496Z",
     "start_time": "2024-12-16T17:27:33.414618Z"
    }
   },
   "cell_type": "code",
   "source": [
    "# 计算每个区域的面积（m²）\n",
    "SARdata['area_m2'] = SARdata.geometry.area\n",
    "\n",
    "# 将面积转换为公顷 (1 ha = 10,000 m²)\n",
    "SARdata['area_ha'] = SARdata['area_m2'] / 10000.0\n",
    "\n",
    "# 现在你可以使用 'area_ha' 计算Airbnb密度，例如每公顷房源数\n",
    "SARdata['airbnb_density'] = SARdata['airbnb_supply'] / SARdata['area_ha']"
   ],
   "id": "db775c6cea6b06f8",
   "outputs": [],
   "execution_count": 92
  },
  {
   "metadata": {
    "ExecuteTime": {
     "end_time": "2024-12-16T17:17:27.092360Z",
     "start_time": "2024-12-16T17:17:22.961409Z"
    }
   },
   "cell_type": "code",
   "source": [
    "# 创建交互项\n",
    "SARdata['airbnb_interact'] = SARdata['airbnb_density'] * SARdata['hotspot_binary']\n",
    "\n",
    "# 因变量\n",
    "y = SARdata['tourism_economic_indicator'].values.reshape(-1,1)\n",
    "\n",
    "# 自变量，根据需求加入控制变量\n",
    "X_vars = ['airbnb_density', 'airbnb_interact']\n",
    "# 如果有控制变量，如 population, income，请加入：\n",
    "# X_vars = ['airbnb_supply', 'airbnb_interact', 'population', 'income']\n",
    "\n",
    "X = SARdata[X_vars].values\n",
    "\n",
    "# 构建空间权重矩阵\n",
    "W = weights.contiguity.Queen.from_dataframe(SARdata, use_index=True)\n",
    "W.transform = 'r'\n",
    "\n",
    "# 可选：查看Moran's I 判断空间相关性\n",
    "mi = esda.moran.Moran(y.flatten(), W)\n",
    "print(\"Moran's I:\", mi.I, \"p-value:\", mi.p_sim)"
   ],
   "id": "866c9a05d0b22ac3",
   "outputs": [
    {
     "name": "stdout",
     "output_type": "stream",
     "text": [
      "Moran's I: 0.4414711296308822 p-value: 0.001\n"
     ]
    }
   ],
   "execution_count": 89
  },
  {
   "metadata": {
    "ExecuteTime": {
     "end_time": "2024-12-16T17:17:39.547117Z",
     "start_time": "2024-12-16T17:17:39.156369Z"
    }
   },
   "cell_type": "code",
   "source": [
    "# 在存在空间自相关情况下，使用SAR模型（以ML_Lag为例）\n",
    "sar_model = ML_Lag(\n",
    "    y, \n",
    "    X, \n",
    "    w=W, \n",
    "    name_y='tourism_economic_indicator',\n",
    "    name_x=X_vars,\n",
    "    name_w='W',\n",
    "    method='full'\n",
    ")\n",
    "\n",
    "print(sar_model.summary)"
   ],
   "id": "f40e48d5b4692c8b",
   "outputs": [
    {
     "name": "stdout",
     "output_type": "stream",
     "text": [
      "REGRESSION RESULTS\n",
      "------------------\n",
      "\n",
      "SUMMARY OF OUTPUT: MAXIMUM LIKELIHOOD SPATIAL LAG (METHOD = FULL)\n",
      "-----------------------------------------------------------------\n",
      "Data set            :     unknown\n",
      "Weights matrix      :           W\n",
      "Dependent Variable  :tourism_economic_indicator                Number of Observations:         983\n",
      "Mean dependent var  :     40.0814                Number of Variables   :           4\n",
      "S.D. dependent var  :    103.3930                Degrees of Freedom    :         979\n",
      "Pseudo R-squared    :      0.4769\n",
      "Spatial Pseudo R-squared:  0.1295\n",
      "Log likelihood      :  -5725.1483\n",
      "Sigma-square ML     :   5914.0135                Akaike info criterion :   11458.297\n",
      "S.E of regression   :     76.9026                Schwarz criterion     :   11477.859\n",
      "\n",
      "------------------------------------------------------------------------------------\n",
      "            Variable     Coefficient       Std.Error     z-Statistic     Probability\n",
      "------------------------------------------------------------------------------------\n",
      "            CONSTANT         4.37107         3.20149         1.36532         0.17215\n",
      "airbnb_density_per_ha         2.93191         2.95409         0.99249         0.32096\n",
      "     airbnb_interact         2.62313         2.91525         0.89980         0.36823\n",
      "W_tourism_economic_indicator         0.72345         0.02692        26.87019         0.00000\n",
      "------------------------------------------------------------------------------------\n",
      "\n",
      "SPATIAL LAG MODEL IMPACTS\n",
      "Impacts computed using the 'simple' method.\n",
      "            Variable         Direct        Indirect          Total\n",
      "airbnb_density_per_ha         2.9319          7.6700         10.6019\n",
      "     airbnb_interact         2.6231          6.8622          9.4854\n",
      "================================ END OF REPORT =====================================\n"
     ]
    }
   ],
   "execution_count": 90
  }
 ],
 "metadata": {
  "kernelspec": {
   "display_name": "Python 3",
   "language": "python",
   "name": "python3"
  },
  "language_info": {
   "codemirror_mode": {
    "name": "ipython",
    "version": 2
   },
   "file_extension": ".py",
   "mimetype": "text/x-python",
   "name": "python",
   "nbconvert_exporter": "python",
   "pygments_lexer": "ipython2",
   "version": "2.7.6"
  }
 },
 "nbformat": 4,
 "nbformat_minor": 5
}
